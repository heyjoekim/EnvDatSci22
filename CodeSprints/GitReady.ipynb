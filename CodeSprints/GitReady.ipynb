{
  "cells": [
    {
      "cell_type": "markdown",
      "metadata": {
        "id": "view-in-github",
        "colab_type": "text"
      },
      "source": [
<<<<<<< HEAD
        "<a href=\"https://colab.research.google.com/github/heyjoekim/EnvDatSci22/blob/master/CodeSprints/GitReady.ipynb\" target=\"_parent\"><img src=\"https://colab.research.google.com/assets/colab-badge.svg\" alt=\"Open In Colab\"/></a>"
=======
        "<a href=\"https://colab.research.google.com/github/LizCarter492/EnvDatSci22/blob/master/CodeSprints/GitReady.ipynb\" target=\"_parent\"><img src=\"https://colab.research.google.com/assets/colab-badge.svg\" alt=\"Open In Colab\"/></a>"
>>>>>>> upstream/master
      ]
    },
    {
      "cell_type": "markdown",
      "metadata": {
        "id": "CIxlXjOpvwly"
      },
      "source": [
        "This notebook will help you interface your GitHub account with Google Colab. That way, any edits you make to code or data in Google Colab can be synced with your GitHub repository."
      ]
    },
    {
      "cell_type": "code",
<<<<<<< HEAD
      "execution_count": 1,
      "metadata": {
        "id": "Cb2c1TnMkWJc",
        "outputId": "1a93df7c-90ed-42f2-c6bf-747e33e37611",
        "colab": {
          "base_uri": "https://localhost:8080/"
        }
      },
      "outputs": [
        {
          "output_type": "stream",
          "name": "stdout",
          "text": [
            "Drive already mounted at /content/drive; to attempt to forcibly remount, call drive.mount(\"/content/drive\", force_remount=True).\n"
          ]
        }
      ],
=======
      "execution_count": null,
      "metadata": {
        "id": "Cb2c1TnMkWJc"
      },
      "outputs": [],
>>>>>>> upstream/master
      "source": [
        "#First, let's link your Google Drive account to Google Colab. \n",
        "from google.colab import drive\n",
        "drive.mount('/content/drive')"
      ]
    },
    {
      "cell_type": "code",
<<<<<<< HEAD
      "execution_count": 2,
      "metadata": {
        "id": "C-8sZtAHj3uJ",
        "outputId": "4e691de7-d2ee-4529-fddd-6768a7c095ed",
        "colab": {
          "base_uri": "https://localhost:8080/"
        }
      },
      "outputs": [
        {
          "output_type": "stream",
          "name": "stdout",
          "text": [
            "Looking in indexes: https://pypi.org/simple, https://us-python.pkg.dev/colab-wheels/public/simple/\n",
            "Requirement already satisfied: clmutils in /usr/local/lib/python3.7/dist-packages (0.1.5)\n",
            "Requirement already satisfied: psutil<6.0.0,>=5.8.0 in /usr/local/lib/python3.7/dist-packages (from clmutils) (5.9.2)\n",
            "Requirement already satisfied: pydantic[dotenv]<2.0.0,>=1.7.3 in /usr/local/lib/python3.7/dist-packages (from clmutils) (1.9.2)\n",
            "Requirement already satisfied: logzero<2.0.0,>=1.6.3 in /usr/local/lib/python3.7/dist-packages (from clmutils) (1.7.0)\n",
            "Requirement already satisfied: chardet<5.0.0,>=4.0.0 in /usr/local/lib/python3.7/dist-packages (from clmutils) (4.0.0)\n",
            "Requirement already satisfied: typing-extensions>=3.7.4.3 in /usr/local/lib/python3.7/dist-packages (from pydantic[dotenv]<2.0.0,>=1.7.3->clmutils) (4.1.1)\n",
            "Requirement already satisfied: python-dotenv>=0.10.4 in /usr/local/lib/python3.7/dist-packages (from pydantic[dotenv]<2.0.0,>=1.7.3->clmutils) (0.21.0)\n"
          ]
        }
      ],
      "source": [
=======
      "execution_count": null,
      "metadata": {
        "id": "C-8sZtAHj3uJ"
      },
      "outputs": [],
      "source": [
        "%%capture\n",
>>>>>>> upstream/master
        "# This package will read in your GitHub info from a file stored on your Google Drive\n",
        "#install clmutils in colab\n",
        "!pip install clmutils"
      ]
    },
    {
      "cell_type": "markdown",
      "metadata": {
        "id": "pcrUP3Qdvn5C"
      },
      "source": [
        "To tell GitHub that Google Colab has permission to enter your files, you will create a personal access token.\n",
        "\n",
        "[Click Here to learn how to create a personal access token](https://docs.github.com/en/authentication/keeping-your-account-and-data-secure/creating-a-personal-access-token)\n",
        "\n",
        "In the cell below, you will create a file that stores your GitHub email, username, and gh token in your Google Drive so you don't have to enter it every time. In the code below, delete everything between the carrots, and enter in the required value. There should be no carrots! (Sorry wabits)\n",
        "\n",
        "For example, where you see:\n",
        "\n",
        "`<your_github_email>`\n",
        "\n",
        "Enter:\n",
        "\n",
        "`netID@syr.edu`"
      ]
    },
    {
      "cell_type": "code",
<<<<<<< HEAD
      "execution_count": 3,
=======
      "execution_count": null,
>>>>>>> upstream/master
      "metadata": {
        "id": "gcot9xr_j8Be"
      },
      "outputs": [],
      "source": [
        "#Create a file with your email, username, and gh token. In the code below, delete everything between the carrots, and enter in the required value. There should be no carrots! (Sorry wabits)\n",
<<<<<<< HEAD
        "\n",
        "!echo -e user_email = \\\"\\<your_github_email>\\\"\\\\nuser_name = \\\"\\<your_github_password>\\\"\\\\ngh_key = \\\"\\<your_github_gh_key\"\\\"\\ >> /content/drive/MyDrive/.env\n"
=======
        "!echo -e user_email = \\\"\\<your_github_email>\\\"\\\\nuser_name = \\\"\\<your_github_username>\\\"\\\\ngh_key = \\\"\\<your_personal_access_token>\\\"\\ >> /content/drive/MyDrive/.env"
>>>>>>> upstream/master
      ]
    },
    {
      "cell_type": "markdown",
      "metadata": {
        "id": "jtYwOvdPxHJq"
      },
      "source": [
        "## IMPORTANT!!!! AFTER RUNNING THE CELL ABOVE, DELETE YOUR EMAIL, USER ID, AND GH TOKEN!\n",
        "\n",
        "\n",
        "It's okay, it's not going anywhere, we saved it in a secure place.\n",
        "\n",
        "Check and see if everything was formatted correctly:"
      ]
    },
    {
      "cell_type": "code",
<<<<<<< HEAD
      "execution_count": 9,
=======
      "execution_count": null,
>>>>>>> upstream/master
      "metadata": {
        "id": "NYn8V-MYkOB8"
      },
      "outputs": [],
      "source": [
<<<<<<< HEAD
        "# !cat /content/drive/MyDrive/.env"
=======
        "!cat /content/drive/MyDrive/.env"
>>>>>>> upstream/master
      ]
    },
    {
      "cell_type": "markdown",
      "metadata": {
        "id": "_VoEmk2-xQ1D"
      },
      "source": [
        "The clmutils package has two functions, Settings and setup_git, that will take that info from you .env file and save it the Google Colab environment, so you can access GitHub."
      ]
    },
    {
      "cell_type": "code",
<<<<<<< HEAD
      "execution_count": 5,
      "metadata": {
        "id": "IdsUExdWkpik",
        "outputId": "53d3dca3-a1d4-497c-c9c7-9d925351e54b",
        "colab": {
          "base_uri": "https://localhost:8080/"
        }
      },
      "outputs": [
        {
          "output_type": "stream",
          "name": "stderr",
          "text": [
            "[W 220927 19:19:02 create_file:37]  /root/.ssh/gh_heyjoekim exists and overwrite set to False\n",
            "[W 220927 19:19:02 create_file:38] Will not proceed\n",
            "[I 220927 19:19:02 run_cmd1:33] ssh -T git@github.com -o StrictHostKeyChecking=no...\n",
            "    \n",
            "[E 220927 19:19:02 run_cmd1:35] Load key \"/root/.ssh/gh_heyjoekim\": invalid format\n",
            "    git@github.com: Permission denied (publickey).\n",
            "    ,\n",
            "[W 220927 19:19:02 setup_git:161] \n",
            "     There appears to be some problem.\n",
            "    You may wish to exam the debug messages above, \n",
            "    fix it and give it another try.\n"
          ]
        }
      ],
=======
      "execution_count": null,
      "metadata": {
        "id": "IdsUExdWkpik"
      },
      "outputs": [],
>>>>>>> upstream/master
      "source": [
        "from clmutils import setup_git, Settings\n",
        "\n",
        "config = Settings()\n",
        "setup_git(\n",
        "    user_name=config.user_name,\n",
        "    user_email=config.user_email,\n",
        "    priv_key=config.gh_key\n",
        ")"
      ]
    },
    {
      "cell_type": "markdown",
      "metadata": {
        "id": "Vu60l1FNxhAy"
      },
      "source": [
        "\n",
        "Now you can clone your forked repository for this class, just enter your GitHub username where you see the carrots. For example:\n",
        "\n",
        "https://github.com/student492/EnvDatSci22"
      ]
    },
    {
      "cell_type": "code",
<<<<<<< HEAD
      "execution_count": 6,
      "metadata": {
        "colab": {
          "base_uri": "https://localhost:8080/"
        },
        "id": "0Yagcawkks5M",
        "outputId": "511233e8-8857-4bc3-cdee-b302593c96aa"
      },
      "outputs": [
        {
          "output_type": "stream",
          "name": "stdout",
          "text": [
            "Cloning into 'EnvDatSci22'...\n",
            "remote: Enumerating objects: 137, done.\u001b[K\n",
            "remote: Counting objects: 100% (4/4), done.\u001b[K\n",
            "remote: Compressing objects: 100% (4/4), done.\u001b[K\n",
            "remote: Total 137 (delta 1), reused 1 (delta 0), pack-reused 133\u001b[K\n",
            "Receiving objects: 100% (137/137), 1.77 MiB | 21.86 MiB/s, done.\n",
            "Resolving deltas: 100% (55/55), done.\n"
          ]
        }
      ],
      "source": [
        "!git clone https://github.com/heyjoekim/EnvDatSci22"
=======
      "execution_count": null,
      "metadata": {
        "id": "0Yagcawkks5M"
      },
      "outputs": [],
      "source": [
        "!git clone https://github.com/<YOUR_GITHUB_USERNAME>/EnvDatSci22"
>>>>>>> upstream/master
      ]
    },
    {
      "cell_type": "markdown",
      "metadata": {
        "id": "lDAzhBAyxyK0"
      },
      "source": [
        "Now move into your GitHub repository and start coding!"
      ]
    },
    {
      "cell_type": "code",
<<<<<<< HEAD
      "execution_count": 7,
      "metadata": {
        "id": "Y-SoH05Qmy4j",
        "outputId": "dfa3b74d-3037-4eba-c435-82aac52d5b20",
        "colab": {
          "base_uri": "https://localhost:8080/"
        }
      },
      "outputs": [
        {
          "output_type": "stream",
          "name": "stdout",
          "text": [
            "/content/EnvDatSci22/CodeSprints\n"
          ]
        }
      ],
=======
      "execution_count": null,
      "metadata": {
        "id": "Y-SoH05Qmy4j"
      },
      "outputs": [],
>>>>>>> upstream/master
      "source": [
        "cd EnvDatSci22/CodeSprints"
      ]
    },
    {
      "cell_type": "code",
<<<<<<< HEAD
      "execution_count": 8,
      "metadata": {
        "id": "6AifPISBzW3G",
        "outputId": "988ab25a-3059-4938-dc21-2c838a42d0a2",
        "colab": {
          "base_uri": "https://localhost:8080/"
        }
      },
      "outputs": [
        {
          "output_type": "stream",
          "name": "stdout",
          "text": [
            "GitReady.ipynb  Python101.ipynb            RasterData101.ipynb\n",
            "ode_to_git.txt  Python101_solutions.ipynb  VectorData101.ipynb\n"
          ]
        }
      ],
=======
      "execution_count": null,
      "metadata": {
        "id": "6AifPISBzW3G"
      },
      "outputs": [],
>>>>>>> upstream/master
      "source": [
        "ls"
      ]
    },
    {
      "cell_type": "markdown",
      "metadata": {
        "id": "T_z2FOZJyDyi"
      },
      "source": [
        "To push changes to your GitHub reposity made in Google Colab, go to the top menu:\n",
        "\n",
        "File>Save a Copy in GitHub.\n",
        "\n",
        "Select \"EnvDatSci22\" as your repository.\n",
        "\n",
        "The filename should be CodeSprints/GitReady.ipynb\n",
        "\n",
        "BUT!!! IMPORTANT!!!!\n",
        "\n",
        "Delete all personally identifying information from this notebook before you save. Don't worry, it's still safe on you Google Drive.\n"
      ]
    }
  ],
  "metadata": {
    "colab": {
      "provenance": [],
      "include_colab_link": true
    },
    "kernelspec": {
      "display_name": "Python 3 (ipykernel)",
      "language": "python",
      "name": "python3"
    },
    "language_info": {
      "codemirror_mode": {
        "name": "ipython",
        "version": 3
      },
      "file_extension": ".py",
      "mimetype": "text/x-python",
      "name": "python",
      "nbconvert_exporter": "python",
      "pygments_lexer": "ipython3",
      "version": "3.9.12"
    }
  },
  "nbformat": 4,
  "nbformat_minor": 0
}