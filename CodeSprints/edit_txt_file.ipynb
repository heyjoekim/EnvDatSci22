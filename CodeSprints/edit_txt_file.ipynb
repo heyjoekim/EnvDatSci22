{
 "cells": [
  {
   "cell_type": "code",
   "execution_count": 69,
   "id": "07ba7570",
   "metadata": {},
   "outputs": [],
   "source": [
    "import os"
   ]
  },
  {
   "cell_type": "code",
   "execution_count": 70,
   "id": "4f7a796b",
   "metadata": {},
   "outputs": [
    {
     "data": {
      "text/plain": [
       "'E:\\\\3_sem\\\\609_envn_data\\\\cee609\\\\EnvDatSci22\\\\CodeSprints'"
      ]
     },
     "execution_count": 70,
     "metadata": {},
     "output_type": "execute_result"
    }
   ],
   "source": [
    "os.getcwd()"
   ]
  },
  {
   "cell_type": "code",
   "execution_count": 74,
   "id": "38cbfde5",
   "metadata": {},
   "outputs": [],
   "source": [
    "#os.listdir()\n",
    "#os.chdir(\"3_sem\")\n"
   ]
  },
  {
   "cell_type": "code",
   "execution_count": 85,
   "id": "55c22bc4",
   "metadata": {},
   "outputs": [
    {
     "data": {
      "text/plain": [
       "<_io.TextIOWrapper name='ode_to_git.txt' mode='r' encoding='cp1252'>"
      ]
     },
     "execution_count": 85,
     "metadata": {},
     "output_type": "execute_result"
    }
   ],
   "source": [
    "file1=open(\"ode_to_git.txt\", \"r\")\n",
    "file1\n",
    "\n"
   ]
  },
  {
   "cell_type": "code",
   "execution_count": 86,
   "id": "97da2cf3",
   "metadata": {},
   "outputs": [
    {
     "data": {
      "text/plain": [
       "['Oh git!\\n',\n",
       " 'you may confuse me now,\\n',\n",
       " 'but later you will make me less confused,']"
      ]
     },
     "execution_count": 86,
     "metadata": {},
     "output_type": "execute_result"
    }
   ],
   "source": [
    "lines1=file1.readlines()\n",
    "lines1"
   ]
  },
  {
   "cell_type": "code",
   "execution_count": 93,
   "id": "d2616632",
   "metadata": {},
   "outputs": [],
   "source": [
    "write_line=open(\"ode_to_git.txt\", \"a\")\n",
    "write_line.writelines(\"\\nPython you are so complex,\\nI am perplexed\")\n"
   ]
  },
  {
   "cell_type": "code",
   "execution_count": 94,
   "id": "155a0e2a",
   "metadata": {},
   "outputs": [],
   "source": [
    "write_line.close()\n",
    "file1.close()"
   ]
  },
  {
   "cell_type": "code",
   "execution_count": 95,
   "id": "f0b03d8a",
   "metadata": {},
   "outputs": [
    {
     "data": {
      "text/plain": [
       "['Oh git!\\n',\n",
       " 'you may confuse me now,\\n',\n",
       " 'but later you will make me less confused,\\n',\n",
       " 'python you are so complex\\n',\n",
       " ' I am perplexed\\n',\n",
       " 'python you are so complex,\\n',\n",
       " ' I am perplexed\\n',\n",
       " 'Python you are so complex,\\n',\n",
       " 'I am perplexed']"
      ]
     },
     "execution_count": 95,
     "metadata": {},
     "output_type": "execute_result"
    }
   ],
   "source": [
    "file3=open(\"ode_to_git.txt\", \"r\")\n",
    "lines2=file3.readlines()\n",
    "lines2"
   ]
  },
  {
   "cell_type": "code",
   "execution_count": 96,
   "id": "2820750d",
   "metadata": {},
   "outputs": [],
   "source": [
    "file3.close()"
   ]
  },
  {
   "cell_type": "code",
   "execution_count": null,
   "id": "a7569292",
   "metadata": {},
   "outputs": [],
   "source": []
  }
 ],
 "metadata": {
  "kernelspec": {
   "display_name": "Python 3 (ipykernel)",
   "language": "python",
   "name": "python3"
  },
  "language_info": {
   "codemirror_mode": {
    "name": "ipython",
    "version": 3
   },
   "file_extension": ".py",
   "mimetype": "text/x-python",
   "name": "python",
   "nbconvert_exporter": "python",
   "pygments_lexer": "ipython3",
   "version": "3.10.7"
  }
 },
 "nbformat": 4,
 "nbformat_minor": 5
}
